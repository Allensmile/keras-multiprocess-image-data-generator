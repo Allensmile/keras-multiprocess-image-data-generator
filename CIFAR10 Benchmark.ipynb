{
 "cells": [
  {
   "cell_type": "code",
   "execution_count": 1,
   "metadata": {
    "collapsed": false
   },
   "outputs": [
    {
     "name": "stderr",
     "output_type": "stream",
     "text": [
      "Using TensorFlow backend.\n"
     ]
    }
   ],
   "source": [
    "import numpy as np\n",
    "import keras as K\n",
    "import matplotlib.pyplot as plt\n",
    "\n",
    "%matplotlib inline"
   ]
  },
  {
   "cell_type": "code",
   "execution_count": 2,
   "metadata": {
    "collapsed": false
   },
   "outputs": [
    {
     "name": "stdout",
     "output_type": "stream",
     "text": [
      "CPU times: user 84 ms, sys: 44 ms, total: 128 ms\n",
      "Wall time: 125 ms\n"
     ]
    }
   ],
   "source": [
    "%%time\n",
    "from keras.datasets.cifar10 import load_data\n",
    "from keras.utils.np_utils import to_categorical\n",
    "\n",
    "(X_train, y_train), (X_test, y_test) = load_data()\n",
    "\n",
    "y_train_cat = to_categorical(y_train)\n",
    "y_test_cat = to_categorical(y_test)"
   ]
  },
  {
   "cell_type": "code",
   "execution_count": 3,
   "metadata": {
    "collapsed": true
   },
   "outputs": [],
   "source": [
    "def preprocess_img(img):\n",
    "    img = img.astype(np.float32) / 255.0\n",
    "    img -= 0.5\n",
    "    return img * 2"
   ]
  },
  {
   "cell_type": "code",
   "execution_count": 49,
   "metadata": {
    "collapsed": true
   },
   "outputs": [],
   "source": [
    "from multiprocessing import Pool\n",
    "\n",
    "pool = Pool(processes=8)"
   ]
  },
  {
   "cell_type": "code",
   "execution_count": 48,
   "metadata": {
    "collapsed": true
   },
   "outputs": [],
   "source": [
    "pool.terminate()"
   ]
  },
  {
   "cell_type": "code",
   "execution_count": 57,
   "metadata": {
    "collapsed": false
   },
   "outputs": [
    {
     "name": "stdout",
     "output_type": "stream",
     "text": [
      "CPU times: user 6.52 s, sys: 8 ms, total: 6.52 s\n",
      "Wall time: 6.51 s\n"
     ]
    }
   ],
   "source": [
    "%%time\n",
    "#from keras.preprocessing.image import ImageDataGenerator\n",
    "\n",
    "import tools.image as T\n",
    "\n",
    "# Useful for checking the output of the generators after code change\n",
    "#from importlib import reload\n",
    "reload(T)\n",
    "\n",
    "gen = T.ImageDataGenerator(\n",
    "     featurewise_center=False,\n",
    "     samplewise_center=False,\n",
    "     featurewise_std_normalization=False,\n",
    "     samplewise_std_normalization=False,\n",
    "     zca_whitening=False,\n",
    "     rotation_range=45,\n",
    "     width_shift_range=.1,\n",
    "     height_shift_range=.1,\n",
    "     shear_range=0.,\n",
    "     zoom_range=0,\n",
    "     channel_shift_range=0,\n",
    "     fill_mode='nearest',\n",
    "     cval=0.,\n",
    "     horizontal_flip=True,\n",
    "     vertical_flip=False,\n",
    "     rescale=None,\n",
    "#      preprocessing_function=preprocess_img,\n",
    "     dim_ordering='default',\n",
    "     pool=pool\n",
    ")\n",
    "test_gen = T.ImageDataGenerator(\n",
    "    preprocessing_function=preprocess_img)\n",
    "\n",
    "gen.fit(X_train)\n",
    "X_train_aug = gen.flow(X_train, y_train_cat)\n",
    "X_test_aug = test_gen.flow(X_test, y_test_cat)\n",
    "\n",
    "# fig, ax = plt.subplots(6, 6, figsize=(15, 15))\n",
    "# for (imgs, labels) in X_train_aug:\n",
    "#     for i in range(6):\n",
    "#         for j in range(6):\n",
    "#             if i*6 + j < 32:\n",
    "#                 ax[i][j].imshow(imgs[i*6 + j])\n",
    "#     break\n",
    "\n",
    "for i, (imgs, labels) in enumerate(X_train_aug):\n",
    "    if i == 1000:\n",
    "        break"
   ]
  },
  {
   "cell_type": "code",
   "execution_count": 27,
   "metadata": {
    "collapsed": false,
    "scrolled": false
   },
   "outputs": [
    {
     "name": "stdout",
     "output_type": "stream",
     "text": [
      "____________________________________________________________________________________________________\n",
      "Layer (type)                     Output Shape          Param #     Connected to                     \n",
      "====================================================================================================\n",
      "convolution2d_37 (Convolution2D) (None, 32, 32, 32)    896         convolution2d_input_10[0][0]     \n",
      "____________________________________________________________________________________________________\n",
      "maxpooling2d_37 (MaxPooling2D)   (None, 16, 16, 32)    0           convolution2d_37[0][0]           \n",
      "____________________________________________________________________________________________________\n",
      "convolution2d_38 (Convolution2D) (None, 16, 16, 16)    4624        maxpooling2d_37[0][0]            \n",
      "____________________________________________________________________________________________________\n",
      "maxpooling2d_38 (MaxPooling2D)   (None, 8, 8, 16)      0           convolution2d_38[0][0]           \n",
      "____________________________________________________________________________________________________\n",
      "convolution2d_39 (Convolution2D) (None, 8, 8, 32)      4640        maxpooling2d_38[0][0]            \n",
      "____________________________________________________________________________________________________\n",
      "maxpooling2d_39 (MaxPooling2D)   (None, 4, 4, 32)      0           convolution2d_39[0][0]           \n",
      "____________________________________________________________________________________________________\n",
      "convolution2d_40 (Convolution2D) (None, 4, 4, 64)      18496       maxpooling2d_39[0][0]            \n",
      "____________________________________________________________________________________________________\n",
      "maxpooling2d_40 (MaxPooling2D)   (None, 2, 2, 64)      0           convolution2d_40[0][0]           \n",
      "____________________________________________________________________________________________________\n",
      "flatten_10 (Flatten)             (None, 256)           0           maxpooling2d_40[0][0]            \n",
      "____________________________________________________________________________________________________\n",
      "dense_16 (Dense)                 (None, 128)           32896       flatten_10[0][0]                 \n",
      "____________________________________________________________________________________________________\n",
      "batchnormalization_10 (BatchNorm (None, 128)           512         dense_16[0][0]                   \n",
      "____________________________________________________________________________________________________\n",
      "dense_17 (Dense)                 (None, 10)            1290        batchnormalization_10[0][0]      \n",
      "====================================================================================================\n",
      "Total params: 63,354\n",
      "Trainable params: 63,098\n",
      "Non-trainable params: 256\n",
      "____________________________________________________________________________________________________\n",
      "Epoch 1/50\n",
      "50000/50000 [==============================] - 22s - loss: 1.6482 - acc: 0.4058 - val_loss: 1.6909 - val_acc: 0.4529\n",
      "Epoch 2/50\n",
      "50000/50000 [==============================] - 21s - loss: 1.4219 - acc: 0.4939 - val_loss: 1.3128 - val_acc: 0.5309\n",
      "Epoch 3/50\n",
      "50000/50000 [==============================] - 20s - loss: 1.3362 - acc: 0.5244 - val_loss: 1.1999 - val_acc: 0.5849\n",
      "Epoch 4/50\n",
      "50000/50000 [==============================] - 22s - loss: 1.2753 - acc: 0.5503 - val_loss: 1.0936 - val_acc: 0.6146\n",
      "Epoch 5/50\n",
      "50000/50000 [==============================] - 20s - loss: 1.2315 - acc: 0.5671 - val_loss: 1.1012 - val_acc: 0.6160\n",
      "Epoch 6/50\n",
      "50000/50000 [==============================] - 22s - loss: 1.1936 - acc: 0.5819 - val_loss: 1.0079 - val_acc: 0.6465\n",
      "Epoch 7/50\n",
      "50000/50000 [==============================] - 20s - loss: 1.1731 - acc: 0.5844 - val_loss: 0.9753 - val_acc: 0.6610\n",
      "Epoch 8/50\n",
      "50000/50000 [==============================] - 20s - loss: 1.1496 - acc: 0.5956 - val_loss: 1.0640 - val_acc: 0.6302\n",
      "Epoch 9/50\n",
      "50000/50000 [==============================] - 20s - loss: 1.1297 - acc: 0.6058 - val_loss: 1.0163 - val_acc: 0.6318\n",
      "Epoch 10/50\n",
      "50000/50000 [==============================] - 21s - loss: 1.1123 - acc: 0.6088 - val_loss: 0.9373 - val_acc: 0.6721\n",
      "Epoch 11/50\n",
      "50000/50000 [==============================] - 20s - loss: 1.0989 - acc: 0.6143 - val_loss: 1.0222 - val_acc: 0.6424\n",
      "Epoch 12/50\n",
      "50000/50000 [==============================] - 21s - loss: 1.0809 - acc: 0.6199 - val_loss: 0.9559 - val_acc: 0.6664\n",
      "Epoch 13/50\n",
      "50000/50000 [==============================] - 20s - loss: 1.0787 - acc: 0.6233 - val_loss: 1.0818 - val_acc: 0.6311\n",
      "Epoch 14/50\n",
      "50000/50000 [==============================] - 20s - loss: 1.0632 - acc: 0.6286 - val_loss: 0.9207 - val_acc: 0.6828\n",
      "Epoch 15/50\n",
      "50000/50000 [==============================] - 22s - loss: 1.0585 - acc: 0.6311 - val_loss: 0.9080 - val_acc: 0.6835\n",
      "Epoch 16/50\n",
      "50000/50000 [==============================] - 21s - loss: 1.0444 - acc: 0.6352 - val_loss: 0.8768 - val_acc: 0.6939\n",
      "Epoch 17/50\n",
      "50000/50000 [==============================] - 21s - loss: 1.0413 - acc: 0.6381 - val_loss: 0.8707 - val_acc: 0.7000\n",
      "Epoch 18/50\n",
      "50000/50000 [==============================] - 21s - loss: 1.0327 - acc: 0.6376 - val_loss: 0.9665 - val_acc: 0.6647\n",
      "Epoch 19/50\n",
      "50000/50000 [==============================] - 21s - loss: 1.0236 - acc: 0.6435 - val_loss: 0.9645 - val_acc: 0.6686\n",
      "Epoch 20/50\n",
      "50000/50000 [==============================] - 21s - loss: 1.0123 - acc: 0.6450 - val_loss: 0.8596 - val_acc: 0.7049\n",
      "Epoch 21/50\n",
      "50000/50000 [==============================] - 20s - loss: 1.0089 - acc: 0.6504 - val_loss: 0.9186 - val_acc: 0.6881\n",
      "Epoch 22/50\n",
      "50000/50000 [==============================] - 21s - loss: 0.9986 - acc: 0.6520 - val_loss: 0.8325 - val_acc: 0.7102\n",
      "Epoch 23/50\n",
      "50000/50000 [==============================] - 20s - loss: 0.9970 - acc: 0.6527 - val_loss: 0.8277 - val_acc: 0.7053\n",
      "Epoch 24/50\n",
      "50000/50000 [==============================] - 21s - loss: 0.9937 - acc: 0.6554 - val_loss: 0.8160 - val_acc: 0.7159\n",
      "Epoch 25/50\n",
      "50000/50000 [==============================] - 20s - loss: 0.9868 - acc: 0.6568 - val_loss: 0.8671 - val_acc: 0.7052\n",
      "Epoch 26/50\n",
      "50000/50000 [==============================] - 20s - loss: 0.9852 - acc: 0.6564 - val_loss: 0.8535 - val_acc: 0.7013\n",
      "Epoch 27/50\n",
      "50000/50000 [==============================] - 20s - loss: 0.9775 - acc: 0.6574 - val_loss: 0.8116 - val_acc: 0.7191\n",
      "Epoch 28/50\n",
      "50000/50000 [==============================] - 22s - loss: 0.9704 - acc: 0.6599 - val_loss: 0.8460 - val_acc: 0.7049\n",
      "Epoch 29/50\n",
      "50000/50000 [==============================] - 20s - loss: 0.9658 - acc: 0.6630 - val_loss: 0.8056 - val_acc: 0.7172\n",
      "Epoch 30/50\n",
      "50000/50000 [==============================] - 20s - loss: 0.9663 - acc: 0.6627 - val_loss: 0.8349 - val_acc: 0.7065\n",
      "Epoch 31/50\n",
      "50000/50000 [==============================] - 22s - loss: 0.9639 - acc: 0.6644 - val_loss: 0.8258 - val_acc: 0.7158\n",
      "Epoch 32/50\n",
      "50000/50000 [==============================] - 21s - loss: 0.9603 - acc: 0.6657 - val_loss: 0.8073 - val_acc: 0.7218\n",
      "Epoch 33/50\n",
      "50000/50000 [==============================] - 21s - loss: 0.9543 - acc: 0.6664 - val_loss: 0.7815 - val_acc: 0.7335\n",
      "Epoch 34/50\n",
      "50000/50000 [==============================] - 22s - loss: 0.9477 - acc: 0.6696 - val_loss: 0.8011 - val_acc: 0.7232\n",
      "Epoch 35/50\n",
      "50000/50000 [==============================] - 22s - loss: 0.9533 - acc: 0.6688 - val_loss: 0.8461 - val_acc: 0.7025\n",
      "Epoch 36/50\n",
      "50000/50000 [==============================] - 22s - loss: 0.9388 - acc: 0.6722 - val_loss: 0.8725 - val_acc: 0.6938\n",
      "Epoch 37/50\n",
      "50000/50000 [==============================] - 21s - loss: 0.9417 - acc: 0.6722 - val_loss: 0.8411 - val_acc: 0.7067\n",
      "Epoch 38/50\n",
      "50000/50000 [==============================] - 21s - loss: 0.9366 - acc: 0.6724 - val_loss: 0.8020 - val_acc: 0.7215\n",
      "Epoch 39/50\n",
      "50000/50000 [==============================] - 21s - loss: 0.9432 - acc: 0.6704 - val_loss: 0.7894 - val_acc: 0.7284\n",
      "Epoch 40/50\n",
      "50000/50000 [==============================] - 21s - loss: 0.9260 - acc: 0.6742 - val_loss: 0.7911 - val_acc: 0.7270\n",
      "Epoch 41/50\n",
      "50000/50000 [==============================] - 22s - loss: 0.9284 - acc: 0.6777 - val_loss: 0.8073 - val_acc: 0.7219\n",
      "Epoch 42/50\n",
      "50000/50000 [==============================] - 21s - loss: 0.9255 - acc: 0.6768 - val_loss: 0.7541 - val_acc: 0.7379\n",
      "Epoch 43/50\n",
      "50000/50000 [==============================] - 22s - loss: 0.9271 - acc: 0.6769 - val_loss: 0.7550 - val_acc: 0.7334\n",
      "Epoch 44/50\n",
      "28128/50000 [===============>..............] - ETA: 8s - loss: 0.9175 - acc: 0.6801"
     ]
    },
    {
     "ename": "KeyboardInterrupt",
     "evalue": "",
     "output_type": "error",
     "traceback": [
      "\u001b[0;31m---------------------------------------------------------------------------\u001b[0m",
      "\u001b[0;31mKeyboardInterrupt\u001b[0m                         Traceback (most recent call last)",
      "\u001b[0;32m<ipython-input-27-1efa53887540>\u001b[0m in \u001b[0;36m<module>\u001b[0;34m()\u001b[0m\n\u001b[1;32m     39\u001b[0m \u001b[0mmodel\u001b[0m\u001b[0;34m.\u001b[0m\u001b[0mcompile\u001b[0m\u001b[0;34m(\u001b[0m\u001b[0moptimizer\u001b[0m\u001b[0;34m=\u001b[0m\u001b[0;34m'adam'\u001b[0m\u001b[0;34m,\u001b[0m \u001b[0mloss\u001b[0m\u001b[0;34m=\u001b[0m\u001b[0;34m'categorical_crossentropy'\u001b[0m\u001b[0;34m,\u001b[0m \u001b[0mmetrics\u001b[0m\u001b[0;34m=\u001b[0m\u001b[0;34m[\u001b[0m\u001b[0;34m'accuracy'\u001b[0m\u001b[0;34m]\u001b[0m\u001b[0;34m)\u001b[0m\u001b[0;34m\u001b[0m\u001b[0m\n\u001b[1;32m     40\u001b[0m model.fit_generator(X_train_aug, samples_per_epoch=50000, nb_epoch=50, \n\u001b[0;32m---> 41\u001b[0;31m                     validation_data=X_test_aug, nb_val_samples=10000)\n\u001b[0m\u001b[1;32m     42\u001b[0m \u001b[0;31m#model.fit(X_train, y_train_cat, batch_size=512, validation_data=(X_test, y_test_cat), nb_epoch=200)\u001b[0m\u001b[0;34m\u001b[0m\u001b[0;34m\u001b[0m\u001b[0m\n",
      "\u001b[0;32m/home/stratospark/anaconda3/envs/keras27/lib/python2.7/site-packages/Keras-1.2.1-py2.7.egg/keras/models.pyc\u001b[0m in \u001b[0;36mfit_generator\u001b[0;34m(self, generator, samples_per_epoch, nb_epoch, verbose, callbacks, validation_data, nb_val_samples, class_weight, max_q_size, nb_worker, pickle_safe, initial_epoch, **kwargs)\u001b[0m\n\u001b[1;32m    933\u001b[0m                                         \u001b[0mnb_worker\u001b[0m\u001b[0;34m=\u001b[0m\u001b[0mnb_worker\u001b[0m\u001b[0;34m,\u001b[0m\u001b[0;34m\u001b[0m\u001b[0m\n\u001b[1;32m    934\u001b[0m                                         \u001b[0mpickle_safe\u001b[0m\u001b[0;34m=\u001b[0m\u001b[0mpickle_safe\u001b[0m\u001b[0;34m,\u001b[0m\u001b[0;34m\u001b[0m\u001b[0m\n\u001b[0;32m--> 935\u001b[0;31m                                         initial_epoch=initial_epoch)\n\u001b[0m\u001b[1;32m    936\u001b[0m \u001b[0;34m\u001b[0m\u001b[0m\n\u001b[1;32m    937\u001b[0m     def evaluate_generator(self, generator, val_samples,\n",
      "\u001b[0;32m/home/stratospark/anaconda3/envs/keras27/lib/python2.7/site-packages/Keras-1.2.1-py2.7.egg/keras/engine/training.pyc\u001b[0m in \u001b[0;36mfit_generator\u001b[0;34m(self, generator, samples_per_epoch, nb_epoch, verbose, callbacks, validation_data, nb_val_samples, class_weight, max_q_size, nb_worker, pickle_safe, initial_epoch)\u001b[0m\n\u001b[1;32m   1556\u001b[0m                     outs = self.train_on_batch(x, y,\n\u001b[1;32m   1557\u001b[0m                                                \u001b[0msample_weight\u001b[0m\u001b[0;34m=\u001b[0m\u001b[0msample_weight\u001b[0m\u001b[0;34m,\u001b[0m\u001b[0;34m\u001b[0m\u001b[0m\n\u001b[0;32m-> 1558\u001b[0;31m                                                class_weight=class_weight)\n\u001b[0m\u001b[1;32m   1559\u001b[0m \u001b[0;34m\u001b[0m\u001b[0m\n\u001b[1;32m   1560\u001b[0m                     \u001b[0;32mif\u001b[0m \u001b[0;32mnot\u001b[0m \u001b[0misinstance\u001b[0m\u001b[0;34m(\u001b[0m\u001b[0mouts\u001b[0m\u001b[0;34m,\u001b[0m \u001b[0mlist\u001b[0m\u001b[0;34m)\u001b[0m\u001b[0;34m:\u001b[0m\u001b[0;34m\u001b[0m\u001b[0m\n",
      "\u001b[0;32m/home/stratospark/anaconda3/envs/keras27/lib/python2.7/site-packages/Keras-1.2.1-py2.7.egg/keras/engine/training.pyc\u001b[0m in \u001b[0;36mtrain_on_batch\u001b[0;34m(self, x, y, sample_weight, class_weight)\u001b[0m\n\u001b[1;32m   1319\u001b[0m             \u001b[0mins\u001b[0m \u001b[0;34m=\u001b[0m \u001b[0mx\u001b[0m \u001b[0;34m+\u001b[0m \u001b[0my\u001b[0m \u001b[0;34m+\u001b[0m \u001b[0msample_weights\u001b[0m\u001b[0;34m\u001b[0m\u001b[0m\n\u001b[1;32m   1320\u001b[0m         \u001b[0mself\u001b[0m\u001b[0;34m.\u001b[0m\u001b[0m_make_train_function\u001b[0m\u001b[0;34m(\u001b[0m\u001b[0;34m)\u001b[0m\u001b[0;34m\u001b[0m\u001b[0m\n\u001b[0;32m-> 1321\u001b[0;31m         \u001b[0moutputs\u001b[0m \u001b[0;34m=\u001b[0m \u001b[0mself\u001b[0m\u001b[0;34m.\u001b[0m\u001b[0mtrain_function\u001b[0m\u001b[0;34m(\u001b[0m\u001b[0mins\u001b[0m\u001b[0;34m)\u001b[0m\u001b[0;34m\u001b[0m\u001b[0m\n\u001b[0m\u001b[1;32m   1322\u001b[0m         \u001b[0;32mif\u001b[0m \u001b[0mlen\u001b[0m\u001b[0;34m(\u001b[0m\u001b[0moutputs\u001b[0m\u001b[0;34m)\u001b[0m \u001b[0;34m==\u001b[0m \u001b[0;36m1\u001b[0m\u001b[0;34m:\u001b[0m\u001b[0;34m\u001b[0m\u001b[0m\n\u001b[1;32m   1323\u001b[0m             \u001b[0;32mreturn\u001b[0m \u001b[0moutputs\u001b[0m\u001b[0;34m[\u001b[0m\u001b[0;36m0\u001b[0m\u001b[0;34m]\u001b[0m\u001b[0;34m\u001b[0m\u001b[0m\n",
      "\u001b[0;32m/home/stratospark/anaconda3/envs/keras27/lib/python2.7/site-packages/Keras-1.2.1-py2.7.egg/keras/backend/tensorflow_backend.pyc\u001b[0m in \u001b[0;36m__call__\u001b[0;34m(self, inputs)\u001b[0m\n\u001b[1;32m   1920\u001b[0m         \u001b[0msession\u001b[0m \u001b[0;34m=\u001b[0m \u001b[0mget_session\u001b[0m\u001b[0;34m(\u001b[0m\u001b[0;34m)\u001b[0m\u001b[0;34m\u001b[0m\u001b[0m\n\u001b[1;32m   1921\u001b[0m         updated = session.run(self.outputs + [self.updates_op],\n\u001b[0;32m-> 1922\u001b[0;31m                               feed_dict=feed_dict)\n\u001b[0m\u001b[1;32m   1923\u001b[0m         \u001b[0;32mreturn\u001b[0m \u001b[0mupdated\u001b[0m\u001b[0;34m[\u001b[0m\u001b[0;34m:\u001b[0m\u001b[0mlen\u001b[0m\u001b[0;34m(\u001b[0m\u001b[0mself\u001b[0m\u001b[0;34m.\u001b[0m\u001b[0moutputs\u001b[0m\u001b[0;34m)\u001b[0m\u001b[0;34m]\u001b[0m\u001b[0;34m\u001b[0m\u001b[0m\n\u001b[1;32m   1924\u001b[0m \u001b[0;34m\u001b[0m\u001b[0m\n",
      "\u001b[0;32m/home/stratospark/anaconda3/envs/keras27/lib/python2.7/site-packages/tensorflow/python/client/session.pyc\u001b[0m in \u001b[0;36mrun\u001b[0;34m(self, fetches, feed_dict, options, run_metadata)\u001b[0m\n\u001b[1;32m    764\u001b[0m     \u001b[0;32mtry\u001b[0m\u001b[0;34m:\u001b[0m\u001b[0;34m\u001b[0m\u001b[0m\n\u001b[1;32m    765\u001b[0m       result = self._run(None, fetches, feed_dict, options_ptr,\n\u001b[0;32m--> 766\u001b[0;31m                          run_metadata_ptr)\n\u001b[0m\u001b[1;32m    767\u001b[0m       \u001b[0;32mif\u001b[0m \u001b[0mrun_metadata\u001b[0m\u001b[0;34m:\u001b[0m\u001b[0;34m\u001b[0m\u001b[0m\n\u001b[1;32m    768\u001b[0m         \u001b[0mproto_data\u001b[0m \u001b[0;34m=\u001b[0m \u001b[0mtf_session\u001b[0m\u001b[0;34m.\u001b[0m\u001b[0mTF_GetBuffer\u001b[0m\u001b[0;34m(\u001b[0m\u001b[0mrun_metadata_ptr\u001b[0m\u001b[0;34m)\u001b[0m\u001b[0;34m\u001b[0m\u001b[0m\n",
      "\u001b[0;32m/home/stratospark/anaconda3/envs/keras27/lib/python2.7/site-packages/tensorflow/python/client/session.pyc\u001b[0m in \u001b[0;36m_run\u001b[0;34m(self, handle, fetches, feed_dict, options, run_metadata)\u001b[0m\n\u001b[1;32m    962\u001b[0m     \u001b[0;32mif\u001b[0m \u001b[0mfinal_fetches\u001b[0m \u001b[0;32mor\u001b[0m \u001b[0mfinal_targets\u001b[0m\u001b[0;34m:\u001b[0m\u001b[0;34m\u001b[0m\u001b[0m\n\u001b[1;32m    963\u001b[0m       results = self._do_run(handle, final_targets, final_fetches,\n\u001b[0;32m--> 964\u001b[0;31m                              feed_dict_string, options, run_metadata)\n\u001b[0m\u001b[1;32m    965\u001b[0m     \u001b[0;32melse\u001b[0m\u001b[0;34m:\u001b[0m\u001b[0;34m\u001b[0m\u001b[0m\n\u001b[1;32m    966\u001b[0m       \u001b[0mresults\u001b[0m \u001b[0;34m=\u001b[0m \u001b[0;34m[\u001b[0m\u001b[0;34m]\u001b[0m\u001b[0;34m\u001b[0m\u001b[0m\n",
      "\u001b[0;32m/home/stratospark/anaconda3/envs/keras27/lib/python2.7/site-packages/tensorflow/python/client/session.pyc\u001b[0m in \u001b[0;36m_do_run\u001b[0;34m(self, handle, target_list, fetch_list, feed_dict, options, run_metadata)\u001b[0m\n\u001b[1;32m   1012\u001b[0m     \u001b[0;32mif\u001b[0m \u001b[0mhandle\u001b[0m \u001b[0;32mis\u001b[0m \u001b[0mNone\u001b[0m\u001b[0;34m:\u001b[0m\u001b[0;34m\u001b[0m\u001b[0m\n\u001b[1;32m   1013\u001b[0m       return self._do_call(_run_fn, self._session, feed_dict, fetch_list,\n\u001b[0;32m-> 1014\u001b[0;31m                            target_list, options, run_metadata)\n\u001b[0m\u001b[1;32m   1015\u001b[0m     \u001b[0;32melse\u001b[0m\u001b[0;34m:\u001b[0m\u001b[0;34m\u001b[0m\u001b[0m\n\u001b[1;32m   1016\u001b[0m       return self._do_call(_prun_fn, self._session, handle, feed_dict,\n",
      "\u001b[0;32m/home/stratospark/anaconda3/envs/keras27/lib/python2.7/site-packages/tensorflow/python/client/session.pyc\u001b[0m in \u001b[0;36m_do_call\u001b[0;34m(self, fn, *args)\u001b[0m\n\u001b[1;32m   1019\u001b[0m   \u001b[0;32mdef\u001b[0m \u001b[0m_do_call\u001b[0m\u001b[0;34m(\u001b[0m\u001b[0mself\u001b[0m\u001b[0;34m,\u001b[0m \u001b[0mfn\u001b[0m\u001b[0;34m,\u001b[0m \u001b[0;34m*\u001b[0m\u001b[0margs\u001b[0m\u001b[0;34m)\u001b[0m\u001b[0;34m:\u001b[0m\u001b[0;34m\u001b[0m\u001b[0m\n\u001b[1;32m   1020\u001b[0m     \u001b[0;32mtry\u001b[0m\u001b[0;34m:\u001b[0m\u001b[0;34m\u001b[0m\u001b[0m\n\u001b[0;32m-> 1021\u001b[0;31m       \u001b[0;32mreturn\u001b[0m \u001b[0mfn\u001b[0m\u001b[0;34m(\u001b[0m\u001b[0;34m*\u001b[0m\u001b[0margs\u001b[0m\u001b[0;34m)\u001b[0m\u001b[0;34m\u001b[0m\u001b[0m\n\u001b[0m\u001b[1;32m   1022\u001b[0m     \u001b[0;32mexcept\u001b[0m \u001b[0merrors\u001b[0m\u001b[0;34m.\u001b[0m\u001b[0mOpError\u001b[0m \u001b[0;32mas\u001b[0m \u001b[0me\u001b[0m\u001b[0;34m:\u001b[0m\u001b[0;34m\u001b[0m\u001b[0m\n\u001b[1;32m   1023\u001b[0m       \u001b[0mmessage\u001b[0m \u001b[0;34m=\u001b[0m \u001b[0mcompat\u001b[0m\u001b[0;34m.\u001b[0m\u001b[0mas_text\u001b[0m\u001b[0;34m(\u001b[0m\u001b[0me\u001b[0m\u001b[0;34m.\u001b[0m\u001b[0mmessage\u001b[0m\u001b[0;34m)\u001b[0m\u001b[0;34m\u001b[0m\u001b[0m\n",
      "\u001b[0;32m/home/stratospark/anaconda3/envs/keras27/lib/python2.7/site-packages/tensorflow/python/client/session.pyc\u001b[0m in \u001b[0;36m_run_fn\u001b[0;34m(session, feed_dict, fetch_list, target_list, options, run_metadata)\u001b[0m\n\u001b[1;32m   1001\u001b[0m         return tf_session.TF_Run(session, options,\n\u001b[1;32m   1002\u001b[0m                                  \u001b[0mfeed_dict\u001b[0m\u001b[0;34m,\u001b[0m \u001b[0mfetch_list\u001b[0m\u001b[0;34m,\u001b[0m \u001b[0mtarget_list\u001b[0m\u001b[0;34m,\u001b[0m\u001b[0;34m\u001b[0m\u001b[0m\n\u001b[0;32m-> 1003\u001b[0;31m                                  status, run_metadata)\n\u001b[0m\u001b[1;32m   1004\u001b[0m \u001b[0;34m\u001b[0m\u001b[0m\n\u001b[1;32m   1005\u001b[0m     \u001b[0;32mdef\u001b[0m \u001b[0m_prun_fn\u001b[0m\u001b[0;34m(\u001b[0m\u001b[0msession\u001b[0m\u001b[0;34m,\u001b[0m \u001b[0mhandle\u001b[0m\u001b[0;34m,\u001b[0m \u001b[0mfeed_dict\u001b[0m\u001b[0;34m,\u001b[0m \u001b[0mfetch_list\u001b[0m\u001b[0;34m)\u001b[0m\u001b[0;34m:\u001b[0m\u001b[0;34m\u001b[0m\u001b[0m\n",
      "\u001b[0;31mKeyboardInterrupt\u001b[0m: "
     ]
    }
   ],
   "source": [
    "from keras.models import Sequential\n",
    "from keras.layers import Conv2D, Flatten, Dense, MaxPooling2D, BatchNormalization\n",
    "\n",
    "# # Create the model\n",
    "# model = Sequential()\n",
    "# model.add(Convolution2D(32, 3, 3, input_shape=(3, 32, 32), border_mode='same', activation='relu', W_constraint=maxnorm(3)))\n",
    "# model.add(Dropout(0.2))\n",
    "# model.add(Convolution2D(32, 3, 3, activation='relu', border_mode='same', W_constraint=maxnorm(3)))\n",
    "# model.add(MaxPooling2D(pool_size=(2, 2)))\n",
    "# model.add(Flatten())\n",
    "# model.add(Dense(512, activation='relu', W_constraint=maxnorm(3)))\n",
    "# model.add(Dropout(0.5))\n",
    "# model.add(Dense(num_classes, activation='softmax'))\n",
    "# # Compile model\n",
    "# epochs = 25\n",
    "# lrate = 0.01\n",
    "# decay = lrate/epochs\n",
    "# sgd = SGD(lr=lrate, momentum=0.9, decay=decay, nesterov=False)\n",
    "# model.compile(loss='categorical_crossentropy', optimizer=sgd, metrics=['accuracy'])\n",
    "# print(model.summary())\n",
    "\n",
    "model = Sequential([\n",
    "    Conv2D(32, 3, 3, border_mode='same', activation='relu', input_shape=(32, 32, 3)),\n",
    "    MaxPooling2D(),\n",
    "    Conv2D(16, 3, 3, border_mode='same', activation='relu'),\n",
    "    MaxPooling2D(),\n",
    "    Conv2D(32, 3, 3, border_mode='same', activation='relu'),\n",
    "    MaxPooling2D(),\n",
    "    Conv2D(64, 3, 3, border_mode='same', activation='relu'),\n",
    "    MaxPooling2D(),\n",
    "    Flatten(),\n",
    "    Dense(128, activation='relu'),\n",
    "    BatchNormalization(),\n",
    "    Dense(10, activation='softmax')\n",
    "])\n",
    "\n",
    "model.summary()\n",
    "\n",
    "model.compile(optimizer='adam', loss='categorical_crossentropy', metrics=['accuracy'])\n",
    "model.fit_generator(X_train_aug, samples_per_epoch=50000, nb_epoch=50, \n",
    "                    validation_data=X_test_aug, nb_val_samples=10000)\n",
    "#model.fit(X_train, y_train_cat, batch_size=512, validation_data=(X_test, y_test_cat), nb_epoch=200)"
   ]
  }
 ],
 "metadata": {
  "anaconda-cloud": {},
  "kernelspec": {
   "display_name": "Python [conda env:keras27]",
   "language": "python",
   "name": "conda-env-keras27-py"
  },
  "language_info": {
   "codemirror_mode": {
    "name": "ipython",
    "version": 2
   },
   "file_extension": ".py",
   "mimetype": "text/x-python",
   "name": "python",
   "nbconvert_exporter": "python",
   "pygments_lexer": "ipython2",
   "version": "2.7.13"
  }
 },
 "nbformat": 4,
 "nbformat_minor": 2
}
