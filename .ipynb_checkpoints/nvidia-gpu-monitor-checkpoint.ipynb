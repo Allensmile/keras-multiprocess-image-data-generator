{
 "cells": [
  {
   "cell_type": "markdown",
   "metadata": {},
   "source": [
    "## Live plot of Nvidia GPU utilization "
   ]
  },
  {
   "cell_type": "markdown",
   "metadata": {},
   "source": [
    "Inspired by [Jimmie Goode](http://jimgoo.com/buffered-gens/)"
   ]
  },
  {
   "cell_type": "code",
   "execution_count": 1,
   "metadata": {
    "collapsed": false
   },
   "outputs": [
    {
     "name": "stderr",
     "output_type": "stream",
     "text": [
      "/home/stratospark/anaconda3/envs/py27/lib/python2.7/site-packages/matplotlib/font_manager.py:273: UserWarning: Matplotlib is building the font cache using fc-list. This may take a moment.\n",
      "  warnings.warn('Matplotlib is building the font cache using fc-list. This may take a moment.')\n"
     ]
    }
   ],
   "source": [
    "%matplotlib inline\n",
    "\n",
    "import time\n",
    "import datetime\n",
    "import numpy as np\n",
    "import pandas as pd\n",
    "#import seaborn as sns\n",
    "import matplotlib.pyplot as plt\n",
    "from IPython import display\n",
    "from collections import OrderedDict\n",
    "\n",
    "from pynvml import (nvmlInit,\n",
    "                     nvmlDeviceGetCount, \n",
    "                     nvmlDeviceGetHandleByIndex, \n",
    "                     nvmlDeviceGetUtilizationRates,\n",
    "                     nvmlDeviceGetName)"
   ]
  },
  {
   "cell_type": "code",
   "execution_count": 2,
   "metadata": {
    "collapsed": true
   },
   "outputs": [],
   "source": [
    "def gpu_info():\n",
    "    \"Returns a tuple of (GPU ID, GPU Description, GPU % Utilization)\"\n",
    "    nvmlInit()\n",
    "    deviceCount = nvmlDeviceGetCount()\n",
    "    info = []\n",
    "    for i in range(0, deviceCount): \n",
    "        handle = nvmlDeviceGetHandleByIndex(i) \n",
    "        util = nvmlDeviceGetUtilizationRates(handle)\n",
    "        desc = nvmlDeviceGetName(handle) \n",
    "        info.append((i, desc, util.gpu)) #['GPU %i - %s' % (i, desc)] = util.gpu\n",
    "    return info"
   ]
  },
  {
   "cell_type": "code",
   "execution_count": null,
   "metadata": {
    "collapsed": false,
    "scrolled": true
   },
   "outputs": [
    {
     "data": {
      "image/png": "[encoded data removed]",
      "text/plain": [
       "<matplotlib.figure.Figure at 0x7f461084f610>"
      ]
     },
     "metadata": {},
     "output_type": "display_data"
    }
   ],
   "source": [
    "utils = []\n",
    "while True:\n",
    "    try:\n",
    "        dt = datetime.datetime.now()\n",
    "        util = gpu_info()\n",
    "        utils.append([dt] + [x[2] for x in util])\n",
    "        # Don't plot anything on the first pass\n",
    "        if len(utils) == 1:\n",
    "            continue\n",
    "        df = pd.DataFrame(utils, columns=['dt'] + \n",
    "                          ['GPU %i - %s' % (x[0], x[1]) for x in util]).set_index('dt')\n",
    "        ax = df.plot();\n",
    "        vals = ax.get_yticks();\n",
    "        #ax.set_yticklabels(['{:3.0f}%'.format(x) for x in vals]);\n",
    "        ax.set_ylabel('GPU Utilization');\n",
    "        ax.set_xlabel('Time');\n",
    "        ax.set_ylim([0, 100])\n",
    "        display.clear_output(wait=True)\n",
    "        display.display(plt.gcf())\n",
    "        time.sleep(1)\n",
    "    except KeyboardInterrupt:\n",
    "        break"
   ]
  },
  {
   "cell_type": "code",
   "execution_count": null,
   "metadata": {
    "collapsed": false
   },
   "outputs": [],
   "source": [
    "ax = df.plot();\n",
    "vals = ax.get_yticks();\n",
    "ax.set_yticklabels(['{:3.0f}%'.format(x) for x in vals]);\n",
    "ax.set_ylabel('GPU Utilization');\n",
    "ax.set_xlabel('Time');"
   ]
  },
  {
   "cell_type": "code",
   "execution_count": null,
   "metadata": {
    "collapsed": true
   },
   "outputs": [],
   "source": []
  }
 ],
 "metadata": {
  "anaconda-cloud": {},
  "kernelspec": {
   "display_name": "Python [conda env:py27]",
   "language": "python",
   "name": "conda-env-py27-py"
  },
  "language_info": {
   "codemirror_mode": {
    "name": "ipython",
    "version": 2
   },
   "file_extension": ".py",
   "mimetype": "text/x-python",
   "name": "python",
   "nbconvert_exporter": "python",
   "pygments_lexer": "ipython2",
   "version": "2.7.13"
  }
 },
 "nbformat": 4,
 "nbformat_minor": 0
}
